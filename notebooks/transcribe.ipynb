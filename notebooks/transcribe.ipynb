{
 "cells": [
  {
   "cell_type": "code",
   "execution_count": null,
   "id": "662b2003",
   "metadata": {},
   "outputs": [
    {
     "name": "stderr",
     "output_type": "stream",
     "text": [
      "c:\\Users\\vinbo\\anaconda3\\envs\\sports-env\\Lib\\site-packages\\whisper\\transcribe.py:132: UserWarning: FP16 is not supported on CPU; using FP32 instead\n",
      "  warnings.warn(\"FP16 is not supported on CPU; using FP32 instead\")\n"
     ]
    }
   ],
   "source": [
    "import whisper\n",
    "from pathlib import Path\n",
    "\n",
    "# Define paths\n",
    "audio_path = Path(\"../data/raw/commentary.wav\")           # input audio\n",
    "full_txt_path = Path(\"../data/processed/commentary_full.txt\")   # full transcript\n",
    "segments_txt_path = Path(\"../data/processed/commentary_segments.txt\")  # segmented transcript\n",
    "\n",
    "# Make sure output folder exists\n",
    "full_txt_path.parent.mkdir(parents=True, exist_ok=True)\n",
    "segments_txt_path.parent.mkdir(parents=True, exist_ok=True)\n",
    "\n",
    "# Load model\n",
    "model = whisper.load_model(\"medium\")\n",
    "\n",
    "# Transcribe\n",
    "result = model.transcribe(str(audio_path), language=\"en\")\n",
    "\n",
    "# Save full transcript\n",
    "with open(full_txt_path, \"w\", encoding=\"utf-8\") as f:\n",
    "    f.write(result[\"text\"])\n",
    "print(f\"Full transcript saved to {full_txt_path}\")\n",
    "\n",
    "# Save segmented transcript with timestamps\n",
    "with open(segments_txt_path, \"w\", encoding=\"utf-8\") as f:\n",
    "    for segment in result[\"segments\"]:\n",
    "        start = segment['start']\n",
    "        end = segment['end']\n",
    "        text = segment['text']\n",
    "        f.write(f\"[{start:.2f}s -> {end:.2f}s] {text}\\n\")\n",
    "print(f\"Segmented transcript saved to {segments_txt_path}\")\n"
   ]
  },
  {
   "cell_type": "code",
   "execution_count": null,
   "id": "c063dede",
   "metadata": {},
   "outputs": [],
   "source": []
  }
 ],
 "metadata": {
  "kernelspec": {
   "display_name": "sports-env",
   "language": "python",
   "name": "python3"
  },
  "language_info": {
   "codemirror_mode": {
    "name": "ipython",
    "version": 3
   },
   "file_extension": ".py",
   "mimetype": "text/x-python",
   "name": "python",
   "nbconvert_exporter": "python",
   "pygments_lexer": "ipython3",
   "version": "3.13.5"
  }
 },
 "nbformat": 4,
 "nbformat_minor": 5
}
